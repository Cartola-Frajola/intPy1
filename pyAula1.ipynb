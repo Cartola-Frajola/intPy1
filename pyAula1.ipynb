{
 "cells": [
  {
   "cell_type": "markdown",
   "id": "a6393d31-7d6b-4b33-b793-51501e2cd1b2",
   "metadata": {},
   "source": [
    "Atividade 1"
   ]
  },
  {
   "cell_type": "code",
   "execution_count": 5,
   "id": "a48b476f-4bfd-4465-a091-7e7d774d0e08",
   "metadata": {},
   "outputs": [
    {
     "data": {
      "text/plain": [
       "5.206896551724138"
      ]
     },
     "execution_count": 5,
     "metadata": {},
     "output_type": "execute_result"
    }
   ],
   "source": [
    "(5*(10-4)**2)/(3**3+2)-1"
   ]
  },
  {
   "cell_type": "markdown",
   "id": "ce0678d2-834b-4f08-be92-459ca1899215",
   "metadata": {},
   "source": [
    "Atividade 2"
   ]
  },
  {
   "cell_type": "code",
   "execution_count": 6,
   "id": "80610f89-a43f-4e04-8437-a70c4ea6f6a1",
   "metadata": {},
   "outputs": [
    {
     "data": {
      "text/plain": [
       "10.0"
      ]
     },
     "execution_count": 6,
     "metadata": {},
     "output_type": "execute_result"
    }
   ],
   "source": [
    "((8-2)**2+(11-3)**2)**0.5"
   ]
  },
  {
   "cell_type": "markdown",
   "id": "38ffbe73-7085-43f3-a1a6-4868998d003f",
   "metadata": {},
   "source": [
    "Atividade 3"
   ]
  },
  {
   "cell_type": "code",
   "execution_count": 1,
   "id": "219a1cd1-f49e-4f26-966a-4d1ec5348094",
   "metadata": {},
   "outputs": [
    {
     "data": {
      "text/plain": [
       "7.55"
      ]
     },
     "execution_count": 1,
     "metadata": {},
     "output_type": "execute_result"
    }
   ],
   "source": [
    "(7*3+8.5*5+6*2)/(3+5+2)"
   ]
  }
 ],
 "metadata": {
  "kernelspec": {
   "display_name": "Python 3 (ipykernel)",
   "language": "python",
   "name": "python3"
  },
  "language_info": {
   "codemirror_mode": {
    "name": "ipython",
    "version": 3
   },
   "file_extension": ".py",
   "mimetype": "text/x-python",
   "name": "python",
   "nbconvert_exporter": "python",
   "pygments_lexer": "ipython3",
   "version": "3.13.5"
  }
 },
 "nbformat": 4,
 "nbformat_minor": 5
}
